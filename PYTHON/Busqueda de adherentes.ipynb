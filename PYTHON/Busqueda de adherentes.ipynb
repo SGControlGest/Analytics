{
 "cells": [
  {
   "cell_type": "markdown",
   "id": "5fb1e4ea",
   "metadata": {},
   "source": [
    "Creador: Damián Rojas\n",
    "Fecha 14/10/2025\n",
    "Contexto: Busqueda de posibles adherentes para sopesar perdida de CENCO.\n",
    "Descripción: Luego de una busqueda de posibles adherentes para mutual se necesitaba saber que empresas están adheridas a mutual, las que no y las que estuvieron, para esto se hizo un match de ruts con la base de adherentes de mutual y posterior se creo una planilla excel con los datos."
   ]
  },
  {
   "cell_type": "code",
   "execution_count": 10,
   "id": "acc45be9",
   "metadata": {},
   "outputs": [],
   "source": [
    "from pathlib import Path\n",
    "import pandas as pd\n",
    "\n",
    "# 1) Leer un archivo Excel con ADHERENTES exacta\n",
    "ruta_posibles = Path(r\"C:\\Users\\drojas\\OneDrive - Mutual\\Escritorio\\Posibles adherentes.xlsx\")\n",
    "ruta_adherentes = Path(r\"C:\\Users\\drojas\\OneDrive - Mutual\\Escritorio\\ADHERENTES MUTUAL.xlsx\")"
   ]
  },
  {
   "cell_type": "code",
   "execution_count": 13,
   "id": "9fcd46e4",
   "metadata": {},
   "outputs": [],
   "source": [
    "Posibles_ad = pd.read_excel(ruta_posibles)\n",
    "ADHERENTES  = pd.read_excel(ruta_adherentes)"
   ]
  },
  {
   "cell_type": "code",
   "execution_count": 17,
   "id": "91a97989",
   "metadata": {},
   "outputs": [
    {
     "data": {
      "text/plain": [
       "Index(['ADHR_NUMERO', 'ADHR_RAZON_SOCIAL', 'ADHR_ESTADO', 'HLDG_HOLDING',\n",
       "       'ADHR_RUT_EMPRESA', 'ADHR_DV_EMPRESA', 'ACEC_CODIGO', 'ACEC_NIVEL1',\n",
       "       'CLCU_CODIGO', 'CLCU_SECCION'],\n",
       "      dtype='object')"
      ]
     },
     "execution_count": 17,
     "metadata": {},
     "output_type": "execute_result"
    }
   ],
   "source": [
    "ADHERENTES.columns"
   ]
  },
  {
   "cell_type": "code",
   "execution_count": 18,
   "id": "b1b08f35",
   "metadata": {},
   "outputs": [],
   "source": [
    "import pandas as pd\n",
    "\n",
    "# Posibles_ad: tiene columna \"RUT\"\n",
    "# ADHERENTES:  tiene columna \"ADHR_RUT_EMPRESA\"\n",
    "\n",
    "\n",
    "base_adherentes = (\n",
    "    ADHERENTES[[\"ADHR_RUT_EMPRESA\", \"ADHR_ESTADO\"]]\n",
    "    .drop_duplicates(subset=[\"ADHR_RUT_EMPRESA\"])\n",
    ")\n",
    "\n",
    "out = Posibles_ad.merge(\n",
    "    base_adherentes,\n",
    "    left_on=\"RUT\",\n",
    "    right_on=\"ADHR_RUT_EMPRESA\",\n",
    "    how=\"left\"\n",
    ")\n",
    "\n",
    "# 3) Columna \"Mutual?\" (Si si hubo match, No si no)\n",
    "out[\"Mutual?\"] = out[\"ADHR_RUT_EMPRESA\"].notna().map({True: \"Si\", False: \"No\"})\n",
    "\n",
    "\n",
    "out.to_excel(r\"C:\\Users\\drojas\\OneDrive - Mutual\\Escritorio\\MATCH.xlsx\", index=False, engine=\"openpyxl\")\n"
   ]
  }
 ],
 "metadata": {
  "kernelspec": {
   "display_name": "Test1",
   "language": "python",
   "name": "python3"
  },
  "language_info": {
   "codemirror_mode": {
    "name": "ipython",
    "version": 3
   },
   "file_extension": ".py",
   "mimetype": "text/x-python",
   "name": "python",
   "nbconvert_exporter": "python",
   "pygments_lexer": "ipython3",
   "version": "3.13.7"
  }
 },
 "nbformat": 4,
 "nbformat_minor": 5
}
