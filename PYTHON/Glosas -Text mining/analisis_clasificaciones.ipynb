{
 "cells": [
  {
   "cell_type": "markdown",
   "metadata": {},
   "source": [
    "# Librerías"
   ]
  },
  {
   "cell_type": "code",
   "execution_count": 1,
   "metadata": {},
   "outputs": [],
   "source": [
    "import pandas as pd"
   ]
  },
  {
   "cell_type": "markdown",
   "metadata": {},
   "source": [
    "# Configuraciones"
   ]
  },
  {
   "cell_type": "code",
   "execution_count": 2,
   "metadata": {},
   "outputs": [],
   "source": [
    "pd.set_option('display.max_columns', None)"
   ]
  },
  {
   "cell_type": "markdown",
   "metadata": {},
   "source": [
    "# Ingesta de Datos"
   ]
  },
  {
   "cell_type": "code",
   "execution_count": 3,
   "metadata": {},
   "outputs": [],
   "source": [
    "df_clin_hosp = pd.read_excel('glosas_clasificadas_me2l.xlsx')"
   ]
  },
  {
   "cell_type": "markdown",
   "metadata": {},
   "source": [
    "# EDA"
   ]
  },
  {
   "cell_type": "markdown",
   "metadata": {},
   "source": [
    "## Clínicas y Hospitales"
   ]
  },
  {
   "cell_type": "code",
   "execution_count": 4,
   "metadata": {},
   "outputs": [
    {
     "name": "stdout",
     "output_type": "stream",
     "text": [
      "<class 'pandas.core.frame.DataFrame'>\n",
      "RangeIndex: 18087 entries, 0 to 18086\n",
      "Data columns (total 29 columns):\n",
      " #   Column                  Non-Null Count  Dtype         \n",
      "---  ------                  --------------  -----         \n",
      " 0   Unnamed: 0.1            18087 non-null  int64         \n",
      " 1   Unnamed: 0              18087 non-null  int64         \n",
      " 2   Documento compras       18087 non-null  int64         \n",
      " 3   Grupo de compras        18087 non-null  object        \n",
      " 4   Grupo de liberación     16711 non-null  object        \n",
      " 5   Posición                18087 non-null  int64         \n",
      " 6   Fecha documento         18087 non-null  datetime64[ns]\n",
      " 7   Nombre del proveedor    18087 non-null  object        \n",
      " 8   Material                16798 non-null  float64       \n",
      " 9   Texto breve             18086 non-null  object        \n",
      " 10  Cantidad de pedido      18087 non-null  float64       \n",
      " 11  Cantidad en UMA         18087 non-null  float64       \n",
      " 12  Cantidad de imputación  18087 non-null  float64       \n",
      " 13  Unidad medida pedido    18087 non-null  object        \n",
      " 14  Precio neto             18087 non-null  int64         \n",
      " 15  Moneda                  18087 non-null  object        \n",
      " 16  Centro                  18087 non-null  int64         \n",
      " 17  Ind.liberación          16711 non-null  float64       \n",
      " 18  Centro de coste         18072 non-null  object        \n",
      " 19  Cuenta de mayor         18087 non-null  int64         \n",
      " 20  Orden                   17033 non-null  object        \n",
      " 21  Indicador de borrado    0 non-null      float64       \n",
      " 22  Indicador de borrado.1  487 non-null    object        \n",
      " 23  Estado liberación       16482 non-null  object        \n",
      " 24  Cantidad base           18087 non-null  int64         \n",
      " 25  Cl.documento compras    18087 non-null  object        \n",
      " 26  Unnamed: 25             793 non-null    float64       \n",
      " 27  nombre_cuenta           18087 non-null  object        \n",
      " 28  Clasificacion_Phi4      18087 non-null  object        \n",
      "dtypes: datetime64[ns](1), float64(7), int64(8), object(13)\n",
      "memory usage: 4.0+ MB\n"
     ]
    }
   ],
   "source": [
    "df_clin_hosp.info()"
   ]
  },
  {
   "cell_type": "code",
   "execution_count": 5,
   "metadata": {},
   "outputs": [
    {
     "data": {
      "text/html": [
       "<div>\n",
       "<style scoped>\n",
       "    .dataframe tbody tr th:only-of-type {\n",
       "        vertical-align: middle;\n",
       "    }\n",
       "\n",
       "    .dataframe tbody tr th {\n",
       "        vertical-align: top;\n",
       "    }\n",
       "\n",
       "    .dataframe thead th {\n",
       "        text-align: right;\n",
       "    }\n",
       "</style>\n",
       "<table border=\"1\" class=\"dataframe\">\n",
       "  <thead>\n",
       "    <tr style=\"text-align: right;\">\n",
       "      <th></th>\n",
       "      <th>Unnamed: 0.1</th>\n",
       "      <th>Unnamed: 0</th>\n",
       "      <th>Documento compras</th>\n",
       "      <th>Grupo de compras</th>\n",
       "      <th>Grupo de liberación</th>\n",
       "      <th>Posición</th>\n",
       "      <th>Fecha documento</th>\n",
       "      <th>Nombre del proveedor</th>\n",
       "      <th>Material</th>\n",
       "      <th>Texto breve</th>\n",
       "      <th>Cantidad de pedido</th>\n",
       "      <th>Cantidad en UMA</th>\n",
       "      <th>Cantidad de imputación</th>\n",
       "      <th>Unidad medida pedido</th>\n",
       "      <th>Precio neto</th>\n",
       "      <th>Moneda</th>\n",
       "      <th>Centro</th>\n",
       "      <th>Ind.liberación</th>\n",
       "      <th>Centro de coste</th>\n",
       "      <th>Cuenta de mayor</th>\n",
       "      <th>Orden</th>\n",
       "      <th>Indicador de borrado</th>\n",
       "      <th>Indicador de borrado.1</th>\n",
       "      <th>Estado liberación</th>\n",
       "      <th>Cantidad base</th>\n",
       "      <th>Cl.documento compras</th>\n",
       "      <th>Unnamed: 25</th>\n",
       "      <th>nombre_cuenta</th>\n",
       "      <th>Clasificacion_Phi4</th>\n",
       "    </tr>\n",
       "  </thead>\n",
       "  <tbody>\n",
       "    <tr>\n",
       "      <th>0</th>\n",
       "      <td>30801</td>\n",
       "      <td>4561463896</td>\n",
       "      <td>4561463896</td>\n",
       "      <td>S08</td>\n",
       "      <td>P3</td>\n",
       "      <td>10</td>\n",
       "      <td>2024-11-02</td>\n",
       "      <td>616021427  HOSPITAL DE PEUMO</td>\n",
       "      <td>115800002.0</td>\n",
       "      <td>ATENCION DE URGENCIA</td>\n",
       "      <td>1.0</td>\n",
       "      <td>1.0</td>\n",
       "      <td>1.0</td>\n",
       "      <td>UN</td>\n",
       "      <td>33110</td>\n",
       "      <td>CLP</td>\n",
       "      <td>1700</td>\n",
       "      <td>2.0</td>\n",
       "      <td>61121</td>\n",
       "      <td>510601</td>\n",
       "      <td>202409180966</td>\n",
       "      <td>NaN</td>\n",
       "      <td>NaN</td>\n",
       "      <td>X</td>\n",
       "      <td>1</td>\n",
       "      <td>PSEM</td>\n",
       "      <td>NaN</td>\n",
       "      <td>Clínicas y Hospitales</td>\n",
       "      <td>Atención de urgencia</td>\n",
       "    </tr>\n",
       "    <tr>\n",
       "      <th>1</th>\n",
       "      <td>30802</td>\n",
       "      <td>4561463896</td>\n",
       "      <td>4561463896</td>\n",
       "      <td>S08</td>\n",
       "      <td>P3</td>\n",
       "      <td>20</td>\n",
       "      <td>2024-11-02</td>\n",
       "      <td>616021427  HOSPITAL DE PEUMO</td>\n",
       "      <td>115800002.0</td>\n",
       "      <td>ATENCION DE URGENCIA</td>\n",
       "      <td>1.0</td>\n",
       "      <td>1.0</td>\n",
       "      <td>1.0</td>\n",
       "      <td>UN</td>\n",
       "      <td>54790</td>\n",
       "      <td>CLP</td>\n",
       "      <td>1700</td>\n",
       "      <td>2.0</td>\n",
       "      <td>61121</td>\n",
       "      <td>510601</td>\n",
       "      <td>202409190828</td>\n",
       "      <td>NaN</td>\n",
       "      <td>NaN</td>\n",
       "      <td>X</td>\n",
       "      <td>1</td>\n",
       "      <td>PSEM</td>\n",
       "      <td>NaN</td>\n",
       "      <td>Clínicas y Hospitales</td>\n",
       "      <td>Atención de urgencia</td>\n",
       "    </tr>\n",
       "    <tr>\n",
       "      <th>2</th>\n",
       "      <td>30803</td>\n",
       "      <td>4561463896</td>\n",
       "      <td>4561463896</td>\n",
       "      <td>S08</td>\n",
       "      <td>P3</td>\n",
       "      <td>30</td>\n",
       "      <td>2024-11-02</td>\n",
       "      <td>616021427  HOSPITAL DE PEUMO</td>\n",
       "      <td>115800002.0</td>\n",
       "      <td>ATENCION DE URGENCIA</td>\n",
       "      <td>1.0</td>\n",
       "      <td>1.0</td>\n",
       "      <td>1.0</td>\n",
       "      <td>UN</td>\n",
       "      <td>17210</td>\n",
       "      <td>CLP</td>\n",
       "      <td>1700</td>\n",
       "      <td>2.0</td>\n",
       "      <td>61121</td>\n",
       "      <td>510601</td>\n",
       "      <td>202409190231</td>\n",
       "      <td>NaN</td>\n",
       "      <td>NaN</td>\n",
       "      <td>X</td>\n",
       "      <td>1</td>\n",
       "      <td>PSEM</td>\n",
       "      <td>NaN</td>\n",
       "      <td>Clínicas y Hospitales</td>\n",
       "      <td>Atención de urgencia</td>\n",
       "    </tr>\n",
       "    <tr>\n",
       "      <th>3</th>\n",
       "      <td>30876</td>\n",
       "      <td>4561463932</td>\n",
       "      <td>4561463932</td>\n",
       "      <td>S13</td>\n",
       "      <td>P3</td>\n",
       "      <td>10</td>\n",
       "      <td>2024-11-04</td>\n",
       "      <td>116996766  GLORIA LUZ SILVA OSSES</td>\n",
       "      <td>NaN</td>\n",
       "      <td>Hon. Arsenalera- Juan Mondaca</td>\n",
       "      <td>1.0</td>\n",
       "      <td>0.0</td>\n",
       "      <td>1.0</td>\n",
       "      <td>UN</td>\n",
       "      <td>35000</td>\n",
       "      <td>CLP</td>\n",
       "      <td>2200</td>\n",
       "      <td>2.0</td>\n",
       "      <td>82132</td>\n",
       "      <td>510601</td>\n",
       "      <td>202409132786</td>\n",
       "      <td>NaN</td>\n",
       "      <td>NaN</td>\n",
       "      <td>X</td>\n",
       "      <td>1</td>\n",
       "      <td>PSPF</td>\n",
       "      <td>NaN</td>\n",
       "      <td>Clínicas y Hospitales</td>\n",
       "      <td>Ley de pacientes</td>\n",
       "    </tr>\n",
       "    <tr>\n",
       "      <th>4</th>\n",
       "      <td>31003</td>\n",
       "      <td>4561463961</td>\n",
       "      <td>4561463961</td>\n",
       "      <td>S17</td>\n",
       "      <td>P3</td>\n",
       "      <td>10</td>\n",
       "      <td>2024-11-04</td>\n",
       "      <td>762619059  CENTRO MEDICO LOS ANDES</td>\n",
       "      <td>115800115.0</td>\n",
       "      <td>CMUPM;HOSP;EVELYN PRISCILA VARGAS TORRES</td>\n",
       "      <td>1.0</td>\n",
       "      <td>1.0</td>\n",
       "      <td>1.0</td>\n",
       "      <td>UN</td>\n",
       "      <td>425030</td>\n",
       "      <td>CLP</td>\n",
       "      <td>2600</td>\n",
       "      <td>2.0</td>\n",
       "      <td>106131</td>\n",
       "      <td>510601</td>\n",
       "      <td>202308847774</td>\n",
       "      <td>NaN</td>\n",
       "      <td>NaN</td>\n",
       "      <td>XXX</td>\n",
       "      <td>1</td>\n",
       "      <td>PSEM</td>\n",
       "      <td>NaN</td>\n",
       "      <td>Clínicas y Hospitales</td>\n",
       "      <td>Hospitalización</td>\n",
       "    </tr>\n",
       "  </tbody>\n",
       "</table>\n",
       "</div>"
      ],
      "text/plain": [
       "   Unnamed: 0.1  Unnamed: 0  Documento compras Grupo de compras  \\\n",
       "0         30801  4561463896         4561463896              S08   \n",
       "1         30802  4561463896         4561463896              S08   \n",
       "2         30803  4561463896         4561463896              S08   \n",
       "3         30876  4561463932         4561463932              S13   \n",
       "4         31003  4561463961         4561463961              S17   \n",
       "\n",
       "  Grupo de liberación  Posición Fecha documento  \\\n",
       "0                  P3        10      2024-11-02   \n",
       "1                  P3        20      2024-11-02   \n",
       "2                  P3        30      2024-11-02   \n",
       "3                  P3        10      2024-11-04   \n",
       "4                  P3        10      2024-11-04   \n",
       "\n",
       "                 Nombre del proveedor     Material  \\\n",
       "0        616021427  HOSPITAL DE PEUMO  115800002.0   \n",
       "1        616021427  HOSPITAL DE PEUMO  115800002.0   \n",
       "2        616021427  HOSPITAL DE PEUMO  115800002.0   \n",
       "3   116996766  GLORIA LUZ SILVA OSSES          NaN   \n",
       "4  762619059  CENTRO MEDICO LOS ANDES  115800115.0   \n",
       "\n",
       "                                Texto breve  Cantidad de pedido  \\\n",
       "0                      ATENCION DE URGENCIA                 1.0   \n",
       "1                      ATENCION DE URGENCIA                 1.0   \n",
       "2                      ATENCION DE URGENCIA                 1.0   \n",
       "3             Hon. Arsenalera- Juan Mondaca                 1.0   \n",
       "4  CMUPM;HOSP;EVELYN PRISCILA VARGAS TORRES                 1.0   \n",
       "\n",
       "   Cantidad en UMA  Cantidad de imputación Unidad medida pedido  Precio neto  \\\n",
       "0              1.0                     1.0                   UN        33110   \n",
       "1              1.0                     1.0                   UN        54790   \n",
       "2              1.0                     1.0                   UN        17210   \n",
       "3              0.0                     1.0                   UN        35000   \n",
       "4              1.0                     1.0                   UN       425030   \n",
       "\n",
       "  Moneda  Centro  Ind.liberación Centro de coste  Cuenta de mayor  \\\n",
       "0    CLP    1700             2.0           61121           510601   \n",
       "1    CLP    1700             2.0           61121           510601   \n",
       "2    CLP    1700             2.0           61121           510601   \n",
       "3    CLP    2200             2.0           82132           510601   \n",
       "4    CLP    2600             2.0          106131           510601   \n",
       "\n",
       "          Orden  Indicador de borrado Indicador de borrado.1  \\\n",
       "0  202409180966                   NaN                    NaN   \n",
       "1  202409190828                   NaN                    NaN   \n",
       "2  202409190231                   NaN                    NaN   \n",
       "3  202409132786                   NaN                    NaN   \n",
       "4  202308847774                   NaN                    NaN   \n",
       "\n",
       "  Estado liberación  Cantidad base Cl.documento compras  Unnamed: 25  \\\n",
       "0                 X              1                 PSEM          NaN   \n",
       "1                 X              1                 PSEM          NaN   \n",
       "2                 X              1                 PSEM          NaN   \n",
       "3                 X              1                 PSPF          NaN   \n",
       "4               XXX              1                 PSEM          NaN   \n",
       "\n",
       "           nombre_cuenta    Clasificacion_Phi4  \n",
       "0  Clínicas y Hospitales  Atención de urgencia  \n",
       "1  Clínicas y Hospitales  Atención de urgencia  \n",
       "2  Clínicas y Hospitales  Atención de urgencia  \n",
       "3  Clínicas y Hospitales      Ley de pacientes  \n",
       "4  Clínicas y Hospitales       Hospitalización  "
      ]
     },
     "execution_count": 5,
     "metadata": {},
     "output_type": "execute_result"
    }
   ],
   "source": [
    "df_clin_hosp.head()"
   ]
  },
  {
   "cell_type": "code",
   "execution_count": 6,
   "metadata": {},
   "outputs": [
    {
     "data": {
      "text/plain": [
       "Cantidad de imputación\n",
       "1.00      17934\n",
       "2.00         45\n",
       "3.00         14\n",
       "4.00         11\n",
       "31.00         9\n",
       "5.00          8\n",
       "12.00         6\n",
       "6.00          6\n",
       "240.00        5\n",
       "40.00         5\n",
       "60.00         5\n",
       "14.00         4\n",
       "28.00         4\n",
       "0.00          4\n",
       "10.00         3\n",
       "30.00         3\n",
       "8.00          3\n",
       "7.00          2\n",
       "1.75          2\n",
       "100.00        2\n",
       "51.00         1\n",
       "19.00         1\n",
       "55.00         1\n",
       "58.00         1\n",
       "15.00         1\n",
       "52.00         1\n",
       "9.00          1\n",
       "11.00         1\n",
       "70.00         1\n",
       "56.00         1\n",
       "13.00         1\n",
       "49.00         1\n",
       "Name: count, dtype: int64"
      ]
     },
     "execution_count": 6,
     "metadata": {},
     "output_type": "execute_result"
    }
   ],
   "source": [
    "df_clin_hosp['Cantidad de imputación'].value_counts()"
   ]
  },
  {
   "cell_type": "code",
   "execution_count": 7,
   "metadata": {},
   "outputs": [
    {
     "data": {
      "text/html": [
       "<div>\n",
       "<style scoped>\n",
       "    .dataframe tbody tr th:only-of-type {\n",
       "        vertical-align: middle;\n",
       "    }\n",
       "\n",
       "    .dataframe tbody tr th {\n",
       "        vertical-align: top;\n",
       "    }\n",
       "\n",
       "    .dataframe thead th {\n",
       "        text-align: right;\n",
       "    }\n",
       "</style>\n",
       "<table border=\"1\" class=\"dataframe\">\n",
       "  <thead>\n",
       "    <tr style=\"text-align: right;\">\n",
       "      <th></th>\n",
       "      <th>Unnamed: 0.1</th>\n",
       "      <th>Unnamed: 0</th>\n",
       "      <th>Documento compras</th>\n",
       "      <th>Grupo de compras</th>\n",
       "      <th>Grupo de liberación</th>\n",
       "      <th>Posición</th>\n",
       "      <th>Fecha documento</th>\n",
       "      <th>Nombre del proveedor</th>\n",
       "      <th>Material</th>\n",
       "      <th>Texto breve</th>\n",
       "      <th>Cantidad de pedido</th>\n",
       "      <th>Cantidad en UMA</th>\n",
       "      <th>Cantidad de imputación</th>\n",
       "      <th>Unidad medida pedido</th>\n",
       "      <th>Precio neto</th>\n",
       "      <th>Moneda</th>\n",
       "      <th>Centro</th>\n",
       "      <th>Ind.liberación</th>\n",
       "      <th>Centro de coste</th>\n",
       "      <th>Cuenta de mayor</th>\n",
       "      <th>Orden</th>\n",
       "      <th>Indicador de borrado</th>\n",
       "      <th>Indicador de borrado.1</th>\n",
       "      <th>Estado liberación</th>\n",
       "      <th>Cantidad base</th>\n",
       "      <th>Cl.documento compras</th>\n",
       "      <th>Unnamed: 25</th>\n",
       "      <th>nombre_cuenta</th>\n",
       "      <th>Clasificacion_Phi4</th>\n",
       "    </tr>\n",
       "  </thead>\n",
       "  <tbody>\n",
       "    <tr>\n",
       "      <th>1618</th>\n",
       "      <td>46277</td>\n",
       "      <td>4561466839</td>\n",
       "      <td>4561466839</td>\n",
       "      <td>S07</td>\n",
       "      <td>P3</td>\n",
       "      <td>10</td>\n",
       "      <td>2024-11-14</td>\n",
       "      <td>611080000  CAJA DE PREVISION DE LA</td>\n",
       "      <td>NaN</td>\n",
       "      <td>032 OCT/24 DCA 8.385.113-9</td>\n",
       "      <td>31.0</td>\n",
       "      <td>0.0</td>\n",
       "      <td>31.0</td>\n",
       "      <td>UN</td>\n",
       "      <td>259646</td>\n",
       "      <td>CLP</td>\n",
       "      <td>1600</td>\n",
       "      <td>2.0</td>\n",
       "      <td>50166</td>\n",
       "      <td>510601</td>\n",
       "      <td>201201499029</td>\n",
       "      <td>NaN</td>\n",
       "      <td>NaN</td>\n",
       "      <td>XXXX</td>\n",
       "      <td>1</td>\n",
       "      <td>PSEM</td>\n",
       "      <td>NaN</td>\n",
       "      <td>Clínicas y Hospitales</td>\n",
       "      <td>Diagnóstico / imagenología</td>\n",
       "    </tr>\n",
       "    <tr>\n",
       "      <th>1619</th>\n",
       "      <td>46278</td>\n",
       "      <td>4561466840</td>\n",
       "      <td>4561466840</td>\n",
       "      <td>S07</td>\n",
       "      <td>P3</td>\n",
       "      <td>10</td>\n",
       "      <td>2024-11-14</td>\n",
       "      <td>611080000  CAJA DE PREVISION DE LA</td>\n",
       "      <td>NaN</td>\n",
       "      <td>032 OCT/24 DCA 16.678.673-8</td>\n",
       "      <td>31.0</td>\n",
       "      <td>0.0</td>\n",
       "      <td>31.0</td>\n",
       "      <td>UN</td>\n",
       "      <td>259646</td>\n",
       "      <td>CLP</td>\n",
       "      <td>1600</td>\n",
       "      <td>2.0</td>\n",
       "      <td>50166</td>\n",
       "      <td>510601</td>\n",
       "      <td>201301709133</td>\n",
       "      <td>NaN</td>\n",
       "      <td>NaN</td>\n",
       "      <td>XXXX</td>\n",
       "      <td>1</td>\n",
       "      <td>PSEM</td>\n",
       "      <td>NaN</td>\n",
       "      <td>Clínicas y Hospitales</td>\n",
       "      <td>Diagnóstico / imagenología</td>\n",
       "    </tr>\n",
       "    <tr>\n",
       "      <th>1621</th>\n",
       "      <td>46314</td>\n",
       "      <td>4561466844</td>\n",
       "      <td>4561466844</td>\n",
       "      <td>S07</td>\n",
       "      <td>P3</td>\n",
       "      <td>10</td>\n",
       "      <td>2024-11-14</td>\n",
       "      <td>611080000  CAJA DE PREVISION DE LA</td>\n",
       "      <td>NaN</td>\n",
       "      <td>032 OCT/24 DCA 7.663.163-8</td>\n",
       "      <td>31.0</td>\n",
       "      <td>0.0</td>\n",
       "      <td>31.0</td>\n",
       "      <td>UN</td>\n",
       "      <td>259646</td>\n",
       "      <td>CLP</td>\n",
       "      <td>1600</td>\n",
       "      <td>2.0</td>\n",
       "      <td>50166</td>\n",
       "      <td>510601</td>\n",
       "      <td>200213016195</td>\n",
       "      <td>NaN</td>\n",
       "      <td>NaN</td>\n",
       "      <td>XXXX</td>\n",
       "      <td>1</td>\n",
       "      <td>PSEM</td>\n",
       "      <td>NaN</td>\n",
       "      <td>Clínicas y Hospitales</td>\n",
       "      <td>Medicamentos e insumos</td>\n",
       "    </tr>\n",
       "    <tr>\n",
       "      <th>9220</th>\n",
       "      <td>114300</td>\n",
       "      <td>4561479400</td>\n",
       "      <td>4561479400</td>\n",
       "      <td>S07</td>\n",
       "      <td>P3</td>\n",
       "      <td>10</td>\n",
       "      <td>2025-01-09</td>\n",
       "      <td>611080000  CAJA DE PREVISION DE LA</td>\n",
       "      <td>NaN</td>\n",
       "      <td>032 DIC/24 DCA 16.678.673-8</td>\n",
       "      <td>31.0</td>\n",
       "      <td>0.0</td>\n",
       "      <td>31.0</td>\n",
       "      <td>UN</td>\n",
       "      <td>259646</td>\n",
       "      <td>CLP</td>\n",
       "      <td>1600</td>\n",
       "      <td>2.0</td>\n",
       "      <td>50166</td>\n",
       "      <td>510601</td>\n",
       "      <td>201301709133</td>\n",
       "      <td>NaN</td>\n",
       "      <td>NaN</td>\n",
       "      <td>XXXX</td>\n",
       "      <td>1</td>\n",
       "      <td>PSEM</td>\n",
       "      <td>NaN</td>\n",
       "      <td>Clínicas y Hospitales</td>\n",
       "      <td>Hospitalización</td>\n",
       "    </tr>\n",
       "    <tr>\n",
       "      <th>9249</th>\n",
       "      <td>114443</td>\n",
       "      <td>4561479447</td>\n",
       "      <td>4561479447</td>\n",
       "      <td>S07</td>\n",
       "      <td>P3</td>\n",
       "      <td>10</td>\n",
       "      <td>2025-01-09</td>\n",
       "      <td>611080000  CAJA DE PREVISION DE LA</td>\n",
       "      <td>NaN</td>\n",
       "      <td>032 DIC/24 DCA 7.663.163-8</td>\n",
       "      <td>31.0</td>\n",
       "      <td>0.0</td>\n",
       "      <td>31.0</td>\n",
       "      <td>UN</td>\n",
       "      <td>259646</td>\n",
       "      <td>CLP</td>\n",
       "      <td>1600</td>\n",
       "      <td>2.0</td>\n",
       "      <td>50166</td>\n",
       "      <td>510601</td>\n",
       "      <td>200213016195</td>\n",
       "      <td>NaN</td>\n",
       "      <td>NaN</td>\n",
       "      <td>XXXX</td>\n",
       "      <td>1</td>\n",
       "      <td>PSEM</td>\n",
       "      <td>NaN</td>\n",
       "      <td>Clínicas y Hospitales</td>\n",
       "      <td>Profesionales y honorarios</td>\n",
       "    </tr>\n",
       "    <tr>\n",
       "      <th>9251</th>\n",
       "      <td>114445</td>\n",
       "      <td>4561479448</td>\n",
       "      <td>4561479448</td>\n",
       "      <td>S07</td>\n",
       "      <td>P3</td>\n",
       "      <td>10</td>\n",
       "      <td>2025-01-09</td>\n",
       "      <td>611080000  CAJA DE PREVISION DE LA</td>\n",
       "      <td>NaN</td>\n",
       "      <td>032 DIC/24 DCA 8.385.113-9</td>\n",
       "      <td>31.0</td>\n",
       "      <td>0.0</td>\n",
       "      <td>31.0</td>\n",
       "      <td>UN</td>\n",
       "      <td>259646</td>\n",
       "      <td>CLP</td>\n",
       "      <td>1600</td>\n",
       "      <td>2.0</td>\n",
       "      <td>50166</td>\n",
       "      <td>510601</td>\n",
       "      <td>201201499029</td>\n",
       "      <td>NaN</td>\n",
       "      <td>NaN</td>\n",
       "      <td>XXXX</td>\n",
       "      <td>1</td>\n",
       "      <td>PSEM</td>\n",
       "      <td>NaN</td>\n",
       "      <td>Clínicas y Hospitales</td>\n",
       "      <td>Medicamentos e insumos</td>\n",
       "    </tr>\n",
       "    <tr>\n",
       "      <th>13590</th>\n",
       "      <td>155060</td>\n",
       "      <td>4561487275</td>\n",
       "      <td>4561487275</td>\n",
       "      <td>S07</td>\n",
       "      <td>P3</td>\n",
       "      <td>10</td>\n",
       "      <td>2025-02-18</td>\n",
       "      <td>611080000  CAJA DE PREVISION DE LA</td>\n",
       "      <td>NaN</td>\n",
       "      <td>032 ENE/25 DCA 8.385.113-9</td>\n",
       "      <td>31.0</td>\n",
       "      <td>0.0</td>\n",
       "      <td>31.0</td>\n",
       "      <td>UN</td>\n",
       "      <td>259646</td>\n",
       "      <td>CLP</td>\n",
       "      <td>1600</td>\n",
       "      <td>2.0</td>\n",
       "      <td>50166</td>\n",
       "      <td>510601</td>\n",
       "      <td>201201499029</td>\n",
       "      <td>NaN</td>\n",
       "      <td>NaN</td>\n",
       "      <td>XXXX</td>\n",
       "      <td>1</td>\n",
       "      <td>PSEM</td>\n",
       "      <td>NaN</td>\n",
       "      <td>Clínicas y Hospitales</td>\n",
       "      <td>Hospitalización</td>\n",
       "    </tr>\n",
       "    <tr>\n",
       "      <th>13591</th>\n",
       "      <td>155098</td>\n",
       "      <td>4561487284</td>\n",
       "      <td>4561487284</td>\n",
       "      <td>S07</td>\n",
       "      <td>P3</td>\n",
       "      <td>10</td>\n",
       "      <td>2025-02-18</td>\n",
       "      <td>611080000  CAJA DE PREVISION DE LA</td>\n",
       "      <td>NaN</td>\n",
       "      <td>032 ENE/24 DCA 7.663.163-8</td>\n",
       "      <td>31.0</td>\n",
       "      <td>0.0</td>\n",
       "      <td>31.0</td>\n",
       "      <td>UN</td>\n",
       "      <td>259646</td>\n",
       "      <td>CLP</td>\n",
       "      <td>1600</td>\n",
       "      <td>2.0</td>\n",
       "      <td>50166</td>\n",
       "      <td>510601</td>\n",
       "      <td>200213016195</td>\n",
       "      <td>NaN</td>\n",
       "      <td>NaN</td>\n",
       "      <td>XXXX</td>\n",
       "      <td>1</td>\n",
       "      <td>PSEM</td>\n",
       "      <td>NaN</td>\n",
       "      <td>Clínicas y Hospitales</td>\n",
       "      <td>Profesionales y honorarios</td>\n",
       "    </tr>\n",
       "    <tr>\n",
       "      <th>13594</th>\n",
       "      <td>155188</td>\n",
       "      <td>4561487295</td>\n",
       "      <td>4561487295</td>\n",
       "      <td>S07</td>\n",
       "      <td>P3</td>\n",
       "      <td>10</td>\n",
       "      <td>2025-02-18</td>\n",
       "      <td>611080000  CAJA DE PREVISION DE LA</td>\n",
       "      <td>NaN</td>\n",
       "      <td>032 ENE/25 DCA 16.678.673-8</td>\n",
       "      <td>31.0</td>\n",
       "      <td>0.0</td>\n",
       "      <td>31.0</td>\n",
       "      <td>UN</td>\n",
       "      <td>259646</td>\n",
       "      <td>CLP</td>\n",
       "      <td>1600</td>\n",
       "      <td>2.0</td>\n",
       "      <td>50166</td>\n",
       "      <td>510601</td>\n",
       "      <td>201301709133</td>\n",
       "      <td>NaN</td>\n",
       "      <td>NaN</td>\n",
       "      <td>XXXX</td>\n",
       "      <td>1</td>\n",
       "      <td>PSEM</td>\n",
       "      <td>NaN</td>\n",
       "      <td>Clínicas y Hospitales</td>\n",
       "      <td>Hospitalización</td>\n",
       "    </tr>\n",
       "  </tbody>\n",
       "</table>\n",
       "</div>"
      ],
      "text/plain": [
       "       Unnamed: 0.1  Unnamed: 0  Documento compras Grupo de compras  \\\n",
       "1618          46277  4561466839         4561466839              S07   \n",
       "1619          46278  4561466840         4561466840              S07   \n",
       "1621          46314  4561466844         4561466844              S07   \n",
       "9220         114300  4561479400         4561479400              S07   \n",
       "9249         114443  4561479447         4561479447              S07   \n",
       "9251         114445  4561479448         4561479448              S07   \n",
       "13590        155060  4561487275         4561487275              S07   \n",
       "13591        155098  4561487284         4561487284              S07   \n",
       "13594        155188  4561487295         4561487295              S07   \n",
       "\n",
       "      Grupo de liberación  Posición Fecha documento  \\\n",
       "1618                   P3        10      2024-11-14   \n",
       "1619                   P3        10      2024-11-14   \n",
       "1621                   P3        10      2024-11-14   \n",
       "9220                   P3        10      2025-01-09   \n",
       "9249                   P3        10      2025-01-09   \n",
       "9251                   P3        10      2025-01-09   \n",
       "13590                  P3        10      2025-02-18   \n",
       "13591                  P3        10      2025-02-18   \n",
       "13594                  P3        10      2025-02-18   \n",
       "\n",
       "                     Nombre del proveedor  Material  \\\n",
       "1618   611080000  CAJA DE PREVISION DE LA       NaN   \n",
       "1619   611080000  CAJA DE PREVISION DE LA       NaN   \n",
       "1621   611080000  CAJA DE PREVISION DE LA       NaN   \n",
       "9220   611080000  CAJA DE PREVISION DE LA       NaN   \n",
       "9249   611080000  CAJA DE PREVISION DE LA       NaN   \n",
       "9251   611080000  CAJA DE PREVISION DE LA       NaN   \n",
       "13590  611080000  CAJA DE PREVISION DE LA       NaN   \n",
       "13591  611080000  CAJA DE PREVISION DE LA       NaN   \n",
       "13594  611080000  CAJA DE PREVISION DE LA       NaN   \n",
       "\n",
       "                       Texto breve  Cantidad de pedido  Cantidad en UMA  \\\n",
       "1618    032 OCT/24 DCA 8.385.113-9                31.0              0.0   \n",
       "1619   032 OCT/24 DCA 16.678.673-8                31.0              0.0   \n",
       "1621    032 OCT/24 DCA 7.663.163-8                31.0              0.0   \n",
       "9220   032 DIC/24 DCA 16.678.673-8                31.0              0.0   \n",
       "9249    032 DIC/24 DCA 7.663.163-8                31.0              0.0   \n",
       "9251    032 DIC/24 DCA 8.385.113-9                31.0              0.0   \n",
       "13590   032 ENE/25 DCA 8.385.113-9                31.0              0.0   \n",
       "13591   032 ENE/24 DCA 7.663.163-8                31.0              0.0   \n",
       "13594  032 ENE/25 DCA 16.678.673-8                31.0              0.0   \n",
       "\n",
       "       Cantidad de imputación Unidad medida pedido  Precio neto Moneda  \\\n",
       "1618                     31.0                   UN       259646    CLP   \n",
       "1619                     31.0                   UN       259646    CLP   \n",
       "1621                     31.0                   UN       259646    CLP   \n",
       "9220                     31.0                   UN       259646    CLP   \n",
       "9249                     31.0                   UN       259646    CLP   \n",
       "9251                     31.0                   UN       259646    CLP   \n",
       "13590                    31.0                   UN       259646    CLP   \n",
       "13591                    31.0                   UN       259646    CLP   \n",
       "13594                    31.0                   UN       259646    CLP   \n",
       "\n",
       "       Centro  Ind.liberación Centro de coste  Cuenta de mayor         Orden  \\\n",
       "1618     1600             2.0           50166           510601  201201499029   \n",
       "1619     1600             2.0           50166           510601  201301709133   \n",
       "1621     1600             2.0           50166           510601  200213016195   \n",
       "9220     1600             2.0           50166           510601  201301709133   \n",
       "9249     1600             2.0           50166           510601  200213016195   \n",
       "9251     1600             2.0           50166           510601  201201499029   \n",
       "13590    1600             2.0           50166           510601  201201499029   \n",
       "13591    1600             2.0           50166           510601  200213016195   \n",
       "13594    1600             2.0           50166           510601  201301709133   \n",
       "\n",
       "       Indicador de borrado Indicador de borrado.1 Estado liberación  \\\n",
       "1618                    NaN                    NaN              XXXX   \n",
       "1619                    NaN                    NaN              XXXX   \n",
       "1621                    NaN                    NaN              XXXX   \n",
       "9220                    NaN                    NaN              XXXX   \n",
       "9249                    NaN                    NaN              XXXX   \n",
       "9251                    NaN                    NaN              XXXX   \n",
       "13590                   NaN                    NaN              XXXX   \n",
       "13591                   NaN                    NaN              XXXX   \n",
       "13594                   NaN                    NaN              XXXX   \n",
       "\n",
       "       Cantidad base Cl.documento compras  Unnamed: 25          nombre_cuenta  \\\n",
       "1618               1                 PSEM          NaN  Clínicas y Hospitales   \n",
       "1619               1                 PSEM          NaN  Clínicas y Hospitales   \n",
       "1621               1                 PSEM          NaN  Clínicas y Hospitales   \n",
       "9220               1                 PSEM          NaN  Clínicas y Hospitales   \n",
       "9249               1                 PSEM          NaN  Clínicas y Hospitales   \n",
       "9251               1                 PSEM          NaN  Clínicas y Hospitales   \n",
       "13590              1                 PSEM          NaN  Clínicas y Hospitales   \n",
       "13591              1                 PSEM          NaN  Clínicas y Hospitales   \n",
       "13594              1                 PSEM          NaN  Clínicas y Hospitales   \n",
       "\n",
       "               Clasificacion_Phi4  \n",
       "1618   Diagnóstico / imagenología  \n",
       "1619   Diagnóstico / imagenología  \n",
       "1621       Medicamentos e insumos  \n",
       "9220              Hospitalización  \n",
       "9249   Profesionales y honorarios  \n",
       "9251       Medicamentos e insumos  \n",
       "13590             Hospitalización  \n",
       "13591  Profesionales y honorarios  \n",
       "13594             Hospitalización  "
      ]
     },
     "execution_count": 7,
     "metadata": {},
     "output_type": "execute_result"
    }
   ],
   "source": [
    "df_clin_hosp[df_clin_hosp['Cantidad de imputación']==31.00]"
   ]
  },
  {
   "cell_type": "markdown",
   "metadata": {},
   "source": [
    "Debo multiplicar cantidad por precio neto"
   ]
  },
  {
   "cell_type": "code",
   "execution_count": 8,
   "metadata": {},
   "outputs": [
    {
     "data": {
      "text/plain": [
       "Moneda\n",
       "CLP    18087\n",
       "Name: count, dtype: int64"
      ]
     },
     "execution_count": 8,
     "metadata": {},
     "output_type": "execute_result"
    }
   ],
   "source": [
    "df_clin_hosp.Moneda.value_counts()"
   ]
  },
  {
   "cell_type": "code",
   "execution_count": 9,
   "metadata": {},
   "outputs": [],
   "source": [
    "df_clin_hosp['total_clp'] = df_clin_hosp['Cantidad de imputación'] * df_clin_hosp['Precio neto']"
   ]
  },
  {
   "cell_type": "markdown",
   "metadata": {},
   "source": [
    "En esta cuenta solo hay CLP no debo preocuparme por las UF"
   ]
  },
  {
   "cell_type": "code",
   "execution_count": 10,
   "metadata": {},
   "outputs": [
    {
     "data": {
      "application/vnd.plotly.v1+json": {
       "config": {
        "plotlyServerURL": "https://plot.ly"
       },
       "data": [
        {
         "domain": {
          "x": [
           0,
           1
          ],
          "y": [
           0,
           1
          ]
         },
         "hole": 0.3,
         "hovertemplate": "label=%{label}<br>value=%{value}<extra></extra>",
         "labels": [
          "Atención de urgencia",
          "Profesionales y honorarios",
          "Sin clasificar",
          "Diagnóstico / imagenología",
          "Medicamentos e insumos",
          "Hospitalización",
          "Procedimientos quirúrgicos",
          "Ley de pacientes"
         ],
         "legendgroup": "",
         "name": "",
         "showlegend": true,
         "textinfo": "percent+label",
         "textposition": "inside",
         "type": "pie",
         "values": [
          8718,
          2468,
          1873,
          1598,
          1595,
          1565,
          166,
          104
         ]
        }
       ],
       "layout": {
        "legend": {
         "tracegroupgap": 0
        },
        "showlegend": true,
        "template": {
         "data": {
          "bar": [
           {
            "error_x": {
             "color": "#2a3f5f"
            },
            "error_y": {
             "color": "#2a3f5f"
            },
            "marker": {
             "line": {
              "color": "#E5ECF6",
              "width": 0.5
             },
             "pattern": {
              "fillmode": "overlay",
              "size": 10,
              "solidity": 0.2
             }
            },
            "type": "bar"
           }
          ],
          "barpolar": [
           {
            "marker": {
             "line": {
              "color": "#E5ECF6",
              "width": 0.5
             },
             "pattern": {
              "fillmode": "overlay",
              "size": 10,
              "solidity": 0.2
             }
            },
            "type": "barpolar"
           }
          ],
          "carpet": [
           {
            "aaxis": {
             "endlinecolor": "#2a3f5f",
             "gridcolor": "white",
             "linecolor": "white",
             "minorgridcolor": "white",
             "startlinecolor": "#2a3f5f"
            },
            "baxis": {
             "endlinecolor": "#2a3f5f",
             "gridcolor": "white",
             "linecolor": "white",
             "minorgridcolor": "white",
             "startlinecolor": "#2a3f5f"
            },
            "type": "carpet"
           }
          ],
          "choropleth": [
           {
            "colorbar": {
             "outlinewidth": 0,
             "ticks": ""
            },
            "type": "choropleth"
           }
          ],
          "contour": [
           {
            "colorbar": {
             "outlinewidth": 0,
             "ticks": ""
            },
            "colorscale": [
             [
              0,
              "#0d0887"
             ],
             [
              0.1111111111111111,
              "#46039f"
             ],
             [
              0.2222222222222222,
              "#7201a8"
             ],
             [
              0.3333333333333333,
              "#9c179e"
             ],
             [
              0.4444444444444444,
              "#bd3786"
             ],
             [
              0.5555555555555556,
              "#d8576b"
             ],
             [
              0.6666666666666666,
              "#ed7953"
             ],
             [
              0.7777777777777778,
              "#fb9f3a"
             ],
             [
              0.8888888888888888,
              "#fdca26"
             ],
             [
              1,
              "#f0f921"
             ]
            ],
            "type": "contour"
           }
          ],
          "contourcarpet": [
           {
            "colorbar": {
             "outlinewidth": 0,
             "ticks": ""
            },
            "type": "contourcarpet"
           }
          ],
          "heatmap": [
           {
            "colorbar": {
             "outlinewidth": 0,
             "ticks": ""
            },
            "colorscale": [
             [
              0,
              "#0d0887"
             ],
             [
              0.1111111111111111,
              "#46039f"
             ],
             [
              0.2222222222222222,
              "#7201a8"
             ],
             [
              0.3333333333333333,
              "#9c179e"
             ],
             [
              0.4444444444444444,
              "#bd3786"
             ],
             [
              0.5555555555555556,
              "#d8576b"
             ],
             [
              0.6666666666666666,
              "#ed7953"
             ],
             [
              0.7777777777777778,
              "#fb9f3a"
             ],
             [
              0.8888888888888888,
              "#fdca26"
             ],
             [
              1,
              "#f0f921"
             ]
            ],
            "type": "heatmap"
           }
          ],
          "heatmapgl": [
           {
            "colorbar": {
             "outlinewidth": 0,
             "ticks": ""
            },
            "colorscale": [
             [
              0,
              "#0d0887"
             ],
             [
              0.1111111111111111,
              "#46039f"
             ],
             [
              0.2222222222222222,
              "#7201a8"
             ],
             [
              0.3333333333333333,
              "#9c179e"
             ],
             [
              0.4444444444444444,
              "#bd3786"
             ],
             [
              0.5555555555555556,
              "#d8576b"
             ],
             [
              0.6666666666666666,
              "#ed7953"
             ],
             [
              0.7777777777777778,
              "#fb9f3a"
             ],
             [
              0.8888888888888888,
              "#fdca26"
             ],
             [
              1,
              "#f0f921"
             ]
            ],
            "type": "heatmapgl"
           }
          ],
          "histogram": [
           {
            "marker": {
             "pattern": {
              "fillmode": "overlay",
              "size": 10,
              "solidity": 0.2
             }
            },
            "type": "histogram"
           }
          ],
          "histogram2d": [
           {
            "colorbar": {
             "outlinewidth": 0,
             "ticks": ""
            },
            "colorscale": [
             [
              0,
              "#0d0887"
             ],
             [
              0.1111111111111111,
              "#46039f"
             ],
             [
              0.2222222222222222,
              "#7201a8"
             ],
             [
              0.3333333333333333,
              "#9c179e"
             ],
             [
              0.4444444444444444,
              "#bd3786"
             ],
             [
              0.5555555555555556,
              "#d8576b"
             ],
             [
              0.6666666666666666,
              "#ed7953"
             ],
             [
              0.7777777777777778,
              "#fb9f3a"
             ],
             [
              0.8888888888888888,
              "#fdca26"
             ],
             [
              1,
              "#f0f921"
             ]
            ],
            "type": "histogram2d"
           }
          ],
          "histogram2dcontour": [
           {
            "colorbar": {
             "outlinewidth": 0,
             "ticks": ""
            },
            "colorscale": [
             [
              0,
              "#0d0887"
             ],
             [
              0.1111111111111111,
              "#46039f"
             ],
             [
              0.2222222222222222,
              "#7201a8"
             ],
             [
              0.3333333333333333,
              "#9c179e"
             ],
             [
              0.4444444444444444,
              "#bd3786"
             ],
             [
              0.5555555555555556,
              "#d8576b"
             ],
             [
              0.6666666666666666,
              "#ed7953"
             ],
             [
              0.7777777777777778,
              "#fb9f3a"
             ],
             [
              0.8888888888888888,
              "#fdca26"
             ],
             [
              1,
              "#f0f921"
             ]
            ],
            "type": "histogram2dcontour"
           }
          ],
          "mesh3d": [
           {
            "colorbar": {
             "outlinewidth": 0,
             "ticks": ""
            },
            "type": "mesh3d"
           }
          ],
          "parcoords": [
           {
            "line": {
             "colorbar": {
              "outlinewidth": 0,
              "ticks": ""
             }
            },
            "type": "parcoords"
           }
          ],
          "pie": [
           {
            "automargin": true,
            "type": "pie"
           }
          ],
          "scatter": [
           {
            "fillpattern": {
             "fillmode": "overlay",
             "size": 10,
             "solidity": 0.2
            },
            "type": "scatter"
           }
          ],
          "scatter3d": [
           {
            "line": {
             "colorbar": {
              "outlinewidth": 0,
              "ticks": ""
             }
            },
            "marker": {
             "colorbar": {
              "outlinewidth": 0,
              "ticks": ""
             }
            },
            "type": "scatter3d"
           }
          ],
          "scattercarpet": [
           {
            "marker": {
             "colorbar": {
              "outlinewidth": 0,
              "ticks": ""
             }
            },
            "type": "scattercarpet"
           }
          ],
          "scattergeo": [
           {
            "marker": {
             "colorbar": {
              "outlinewidth": 0,
              "ticks": ""
             }
            },
            "type": "scattergeo"
           }
          ],
          "scattergl": [
           {
            "marker": {
             "colorbar": {
              "outlinewidth": 0,
              "ticks": ""
             }
            },
            "type": "scattergl"
           }
          ],
          "scattermapbox": [
           {
            "marker": {
             "colorbar": {
              "outlinewidth": 0,
              "ticks": ""
             }
            },
            "type": "scattermapbox"
           }
          ],
          "scatterpolar": [
           {
            "marker": {
             "colorbar": {
              "outlinewidth": 0,
              "ticks": ""
             }
            },
            "type": "scatterpolar"
           }
          ],
          "scatterpolargl": [
           {
            "marker": {
             "colorbar": {
              "outlinewidth": 0,
              "ticks": ""
             }
            },
            "type": "scatterpolargl"
           }
          ],
          "scatterternary": [
           {
            "marker": {
             "colorbar": {
              "outlinewidth": 0,
              "ticks": ""
             }
            },
            "type": "scatterternary"
           }
          ],
          "surface": [
           {
            "colorbar": {
             "outlinewidth": 0,
             "ticks": ""
            },
            "colorscale": [
             [
              0,
              "#0d0887"
             ],
             [
              0.1111111111111111,
              "#46039f"
             ],
             [
              0.2222222222222222,
              "#7201a8"
             ],
             [
              0.3333333333333333,
              "#9c179e"
             ],
             [
              0.4444444444444444,
              "#bd3786"
             ],
             [
              0.5555555555555556,
              "#d8576b"
             ],
             [
              0.6666666666666666,
              "#ed7953"
             ],
             [
              0.7777777777777778,
              "#fb9f3a"
             ],
             [
              0.8888888888888888,
              "#fdca26"
             ],
             [
              1,
              "#f0f921"
             ]
            ],
            "type": "surface"
           }
          ],
          "table": [
           {
            "cells": {
             "fill": {
              "color": "#EBF0F8"
             },
             "line": {
              "color": "white"
             }
            },
            "header": {
             "fill": {
              "color": "#C8D4E3"
             },
             "line": {
              "color": "white"
             }
            },
            "type": "table"
           }
          ]
         },
         "layout": {
          "annotationdefaults": {
           "arrowcolor": "#2a3f5f",
           "arrowhead": 0,
           "arrowwidth": 1
          },
          "autotypenumbers": "strict",
          "coloraxis": {
           "colorbar": {
            "outlinewidth": 0,
            "ticks": ""
           }
          },
          "colorscale": {
           "diverging": [
            [
             0,
             "#8e0152"
            ],
            [
             0.1,
             "#c51b7d"
            ],
            [
             0.2,
             "#de77ae"
            ],
            [
             0.3,
             "#f1b6da"
            ],
            [
             0.4,
             "#fde0ef"
            ],
            [
             0.5,
             "#f7f7f7"
            ],
            [
             0.6,
             "#e6f5d0"
            ],
            [
             0.7,
             "#b8e186"
            ],
            [
             0.8,
             "#7fbc41"
            ],
            [
             0.9,
             "#4d9221"
            ],
            [
             1,
             "#276419"
            ]
           ],
           "sequential": [
            [
             0,
             "#0d0887"
            ],
            [
             0.1111111111111111,
             "#46039f"
            ],
            [
             0.2222222222222222,
             "#7201a8"
            ],
            [
             0.3333333333333333,
             "#9c179e"
            ],
            [
             0.4444444444444444,
             "#bd3786"
            ],
            [
             0.5555555555555556,
             "#d8576b"
            ],
            [
             0.6666666666666666,
             "#ed7953"
            ],
            [
             0.7777777777777778,
             "#fb9f3a"
            ],
            [
             0.8888888888888888,
             "#fdca26"
            ],
            [
             1,
             "#f0f921"
            ]
           ],
           "sequentialminus": [
            [
             0,
             "#0d0887"
            ],
            [
             0.1111111111111111,
             "#46039f"
            ],
            [
             0.2222222222222222,
             "#7201a8"
            ],
            [
             0.3333333333333333,
             "#9c179e"
            ],
            [
             0.4444444444444444,
             "#bd3786"
            ],
            [
             0.5555555555555556,
             "#d8576b"
            ],
            [
             0.6666666666666666,
             "#ed7953"
            ],
            [
             0.7777777777777778,
             "#fb9f3a"
            ],
            [
             0.8888888888888888,
             "#fdca26"
            ],
            [
             1,
             "#f0f921"
            ]
           ]
          },
          "colorway": [
           "#636efa",
           "#EF553B",
           "#00cc96",
           "#ab63fa",
           "#FFA15A",
           "#19d3f3",
           "#FF6692",
           "#B6E880",
           "#FF97FF",
           "#FECB52"
          ],
          "font": {
           "color": "#2a3f5f"
          },
          "geo": {
           "bgcolor": "white",
           "lakecolor": "white",
           "landcolor": "#E5ECF6",
           "showlakes": true,
           "showland": true,
           "subunitcolor": "white"
          },
          "hoverlabel": {
           "align": "left"
          },
          "hovermode": "closest",
          "mapbox": {
           "style": "light"
          },
          "paper_bgcolor": "white",
          "plot_bgcolor": "#E5ECF6",
          "polar": {
           "angularaxis": {
            "gridcolor": "white",
            "linecolor": "white",
            "ticks": ""
           },
           "bgcolor": "#E5ECF6",
           "radialaxis": {
            "gridcolor": "white",
            "linecolor": "white",
            "ticks": ""
           }
          },
          "scene": {
           "xaxis": {
            "backgroundcolor": "#E5ECF6",
            "gridcolor": "white",
            "gridwidth": 2,
            "linecolor": "white",
            "showbackground": true,
            "ticks": "",
            "zerolinecolor": "white"
           },
           "yaxis": {
            "backgroundcolor": "#E5ECF6",
            "gridcolor": "white",
            "gridwidth": 2,
            "linecolor": "white",
            "showbackground": true,
            "ticks": "",
            "zerolinecolor": "white"
           },
           "zaxis": {
            "backgroundcolor": "#E5ECF6",
            "gridcolor": "white",
            "gridwidth": 2,
            "linecolor": "white",
            "showbackground": true,
            "ticks": "",
            "zerolinecolor": "white"
           }
          },
          "shapedefaults": {
           "line": {
            "color": "#2a3f5f"
           }
          },
          "ternary": {
           "aaxis": {
            "gridcolor": "white",
            "linecolor": "white",
            "ticks": ""
           },
           "baxis": {
            "gridcolor": "white",
            "linecolor": "white",
            "ticks": ""
           },
           "bgcolor": "#E5ECF6",
           "caxis": {
            "gridcolor": "white",
            "linecolor": "white",
            "ticks": ""
           }
          },
          "title": {
           "x": 0.05
          },
          "xaxis": {
           "automargin": true,
           "gridcolor": "white",
           "linecolor": "white",
           "ticks": "",
           "title": {
            "standoff": 15
           },
           "zerolinecolor": "white",
           "zerolinewidth": 2
          },
          "yaxis": {
           "automargin": true,
           "gridcolor": "white",
           "linecolor": "white",
           "ticks": "",
           "title": {
            "standoff": 15
           },
           "zerolinecolor": "white",
           "zerolinewidth": 2
          }
         }
        },
        "title": {
         "text": "Distribución de Clasificaciones Phi4"
        }
       }
      }
     },
     "metadata": {},
     "output_type": "display_data"
    }
   ],
   "source": [
    "import plotly.express as px\n",
    "\n",
    "# Contamos las clasificaciones\n",
    "clasificaciones = df_clin_hosp.Clasificacion_Phi4.value_counts()\n",
    "\n",
    "# Creamos el gráfico de torta interactivo\n",
    "fig = px.pie(\n",
    "    values=clasificaciones.values, \n",
    "    names=clasificaciones.index, \n",
    "    title='Distribución de Clasificaciones Phi4',\n",
    "    hole=0.3\n",
    ")\n",
    "\n",
    "# Personalizamos el diseño del gráfico\n",
    "fig.update_traces(textposition='inside', textinfo='percent+label')\n",
    "fig.update_layout(showlegend=True)\n",
    "\n",
    "# Mostramos el gráfico\n",
    "fig.show()"
   ]
  },
  {
   "cell_type": "code",
   "execution_count": 11,
   "metadata": {},
   "outputs": [
    {
     "name": "stdout",
     "output_type": "stream",
     "text": [
      "           Clasificación Phi4      N       %\n",
      "0        Atención de urgencia  8,718  48.20%\n",
      "1  Profesionales y honorarios  2,468  13.65%\n",
      "2              Sin clasificar  1,873  10.36%\n",
      "3  Diagnóstico / imagenología  1,598   8.84%\n",
      "4      Medicamentos e insumos  1,595   8.82%\n",
      "5             Hospitalización  1,565   8.65%\n",
      "6  Procedimientos quirúrgicos    166   0.92%\n",
      "7            Ley de pacientes    104   0.57%\n"
     ]
    }
   ],
   "source": [
    "# Contamos el número de ocurrencias por cada clasificación Phi4\n",
    "n_por_clasificacion = df_clin_hosp['Clasificacion_Phi4'].value_counts()\n",
    "\n",
    "# Ordenamos de mayor a menor\n",
    "n_por_clasificacion = n_por_clasificacion.sort_values(ascending=False)\n",
    "\n",
    "# Calculamos el porcentaje de cada clasificación\n",
    "porcentaje_por_clasificacion = (n_por_clasificacion / n_por_clasificacion.sum()) * 100\n",
    "\n",
    "# Creamos una tabla con el N y el % por categoría\n",
    "tabla_n = n_por_clasificacion.reset_index()\n",
    "tabla_n.columns = ['Clasificación Phi4', 'N']\n",
    "tabla_n['%'] = porcentaje_por_clasificacion.values\n",
    "\n",
    "# Formateamos los números para que tengan separador de miles y el porcentaje con dos decimales\n",
    "tabla_n['N'] = tabla_n['N'].apply(lambda x: f\"{x:,}\")\n",
    "tabla_n['%'] = tabla_n['%'].apply(lambda x: f\"{x:.2f}%\")\n",
    "\n",
    "# Mostramos la tabla\n",
    "print(tabla_n)\n"
   ]
  },
  {
   "cell_type": "code",
   "execution_count": 12,
   "metadata": {},
   "outputs": [
    {
     "data": {
      "application/vnd.plotly.v1+json": {
       "config": {
        "plotlyServerURL": "https://plot.ly"
       },
       "data": [
        {
         "domain": {
          "x": [
           0,
           1
          ],
          "y": [
           0,
           1
          ]
         },
         "hole": 0.3,
         "hovertemplate": "label=%{label}<br>value=%{value}<extra></extra>",
         "labels": [
          "Atención de urgencia",
          "Diagnóstico / imagenología",
          "Hospitalización",
          "Ley de pacientes",
          "Medicamentos e insumos",
          "Procedimientos quirúrgicos",
          "Profesionales y honorarios",
          "Sin clasificar"
         ],
         "legendgroup": "",
         "name": "",
         "showlegend": true,
         "textinfo": "percent+label",
         "textposition": "inside",
         "type": "pie",
         "values": [
          1004106079.25,
          448466107,
          2117395474,
          26181300,
          747361157,
          91828848,
          791467726,
          492246904
         ]
        }
       ],
       "layout": {
        "legend": {
         "tracegroupgap": 0
        },
        "showlegend": true,
        "template": {
         "data": {
          "bar": [
           {
            "error_x": {
             "color": "#2a3f5f"
            },
            "error_y": {
             "color": "#2a3f5f"
            },
            "marker": {
             "line": {
              "color": "#E5ECF6",
              "width": 0.5
             },
             "pattern": {
              "fillmode": "overlay",
              "size": 10,
              "solidity": 0.2
             }
            },
            "type": "bar"
           }
          ],
          "barpolar": [
           {
            "marker": {
             "line": {
              "color": "#E5ECF6",
              "width": 0.5
             },
             "pattern": {
              "fillmode": "overlay",
              "size": 10,
              "solidity": 0.2
             }
            },
            "type": "barpolar"
           }
          ],
          "carpet": [
           {
            "aaxis": {
             "endlinecolor": "#2a3f5f",
             "gridcolor": "white",
             "linecolor": "white",
             "minorgridcolor": "white",
             "startlinecolor": "#2a3f5f"
            },
            "baxis": {
             "endlinecolor": "#2a3f5f",
             "gridcolor": "white",
             "linecolor": "white",
             "minorgridcolor": "white",
             "startlinecolor": "#2a3f5f"
            },
            "type": "carpet"
           }
          ],
          "choropleth": [
           {
            "colorbar": {
             "outlinewidth": 0,
             "ticks": ""
            },
            "type": "choropleth"
           }
          ],
          "contour": [
           {
            "colorbar": {
             "outlinewidth": 0,
             "ticks": ""
            },
            "colorscale": [
             [
              0,
              "#0d0887"
             ],
             [
              0.1111111111111111,
              "#46039f"
             ],
             [
              0.2222222222222222,
              "#7201a8"
             ],
             [
              0.3333333333333333,
              "#9c179e"
             ],
             [
              0.4444444444444444,
              "#bd3786"
             ],
             [
              0.5555555555555556,
              "#d8576b"
             ],
             [
              0.6666666666666666,
              "#ed7953"
             ],
             [
              0.7777777777777778,
              "#fb9f3a"
             ],
             [
              0.8888888888888888,
              "#fdca26"
             ],
             [
              1,
              "#f0f921"
             ]
            ],
            "type": "contour"
           }
          ],
          "contourcarpet": [
           {
            "colorbar": {
             "outlinewidth": 0,
             "ticks": ""
            },
            "type": "contourcarpet"
           }
          ],
          "heatmap": [
           {
            "colorbar": {
             "outlinewidth": 0,
             "ticks": ""
            },
            "colorscale": [
             [
              0,
              "#0d0887"
             ],
             [
              0.1111111111111111,
              "#46039f"
             ],
             [
              0.2222222222222222,
              "#7201a8"
             ],
             [
              0.3333333333333333,
              "#9c179e"
             ],
             [
              0.4444444444444444,
              "#bd3786"
             ],
             [
              0.5555555555555556,
              "#d8576b"
             ],
             [
              0.6666666666666666,
              "#ed7953"
             ],
             [
              0.7777777777777778,
              "#fb9f3a"
             ],
             [
              0.8888888888888888,
              "#fdca26"
             ],
             [
              1,
              "#f0f921"
             ]
            ],
            "type": "heatmap"
           }
          ],
          "heatmapgl": [
           {
            "colorbar": {
             "outlinewidth": 0,
             "ticks": ""
            },
            "colorscale": [
             [
              0,
              "#0d0887"
             ],
             [
              0.1111111111111111,
              "#46039f"
             ],
             [
              0.2222222222222222,
              "#7201a8"
             ],
             [
              0.3333333333333333,
              "#9c179e"
             ],
             [
              0.4444444444444444,
              "#bd3786"
             ],
             [
              0.5555555555555556,
              "#d8576b"
             ],
             [
              0.6666666666666666,
              "#ed7953"
             ],
             [
              0.7777777777777778,
              "#fb9f3a"
             ],
             [
              0.8888888888888888,
              "#fdca26"
             ],
             [
              1,
              "#f0f921"
             ]
            ],
            "type": "heatmapgl"
           }
          ],
          "histogram": [
           {
            "marker": {
             "pattern": {
              "fillmode": "overlay",
              "size": 10,
              "solidity": 0.2
             }
            },
            "type": "histogram"
           }
          ],
          "histogram2d": [
           {
            "colorbar": {
             "outlinewidth": 0,
             "ticks": ""
            },
            "colorscale": [
             [
              0,
              "#0d0887"
             ],
             [
              0.1111111111111111,
              "#46039f"
             ],
             [
              0.2222222222222222,
              "#7201a8"
             ],
             [
              0.3333333333333333,
              "#9c179e"
             ],
             [
              0.4444444444444444,
              "#bd3786"
             ],
             [
              0.5555555555555556,
              "#d8576b"
             ],
             [
              0.6666666666666666,
              "#ed7953"
             ],
             [
              0.7777777777777778,
              "#fb9f3a"
             ],
             [
              0.8888888888888888,
              "#fdca26"
             ],
             [
              1,
              "#f0f921"
             ]
            ],
            "type": "histogram2d"
           }
          ],
          "histogram2dcontour": [
           {
            "colorbar": {
             "outlinewidth": 0,
             "ticks": ""
            },
            "colorscale": [
             [
              0,
              "#0d0887"
             ],
             [
              0.1111111111111111,
              "#46039f"
             ],
             [
              0.2222222222222222,
              "#7201a8"
             ],
             [
              0.3333333333333333,
              "#9c179e"
             ],
             [
              0.4444444444444444,
              "#bd3786"
             ],
             [
              0.5555555555555556,
              "#d8576b"
             ],
             [
              0.6666666666666666,
              "#ed7953"
             ],
             [
              0.7777777777777778,
              "#fb9f3a"
             ],
             [
              0.8888888888888888,
              "#fdca26"
             ],
             [
              1,
              "#f0f921"
             ]
            ],
            "type": "histogram2dcontour"
           }
          ],
          "mesh3d": [
           {
            "colorbar": {
             "outlinewidth": 0,
             "ticks": ""
            },
            "type": "mesh3d"
           }
          ],
          "parcoords": [
           {
            "line": {
             "colorbar": {
              "outlinewidth": 0,
              "ticks": ""
             }
            },
            "type": "parcoords"
           }
          ],
          "pie": [
           {
            "automargin": true,
            "type": "pie"
           }
          ],
          "scatter": [
           {
            "fillpattern": {
             "fillmode": "overlay",
             "size": 10,
             "solidity": 0.2
            },
            "type": "scatter"
           }
          ],
          "scatter3d": [
           {
            "line": {
             "colorbar": {
              "outlinewidth": 0,
              "ticks": ""
             }
            },
            "marker": {
             "colorbar": {
              "outlinewidth": 0,
              "ticks": ""
             }
            },
            "type": "scatter3d"
           }
          ],
          "scattercarpet": [
           {
            "marker": {
             "colorbar": {
              "outlinewidth": 0,
              "ticks": ""
             }
            },
            "type": "scattercarpet"
           }
          ],
          "scattergeo": [
           {
            "marker": {
             "colorbar": {
              "outlinewidth": 0,
              "ticks": ""
             }
            },
            "type": "scattergeo"
           }
          ],
          "scattergl": [
           {
            "marker": {
             "colorbar": {
              "outlinewidth": 0,
              "ticks": ""
             }
            },
            "type": "scattergl"
           }
          ],
          "scattermapbox": [
           {
            "marker": {
             "colorbar": {
              "outlinewidth": 0,
              "ticks": ""
             }
            },
            "type": "scattermapbox"
           }
          ],
          "scatterpolar": [
           {
            "marker": {
             "colorbar": {
              "outlinewidth": 0,
              "ticks": ""
             }
            },
            "type": "scatterpolar"
           }
          ],
          "scatterpolargl": [
           {
            "marker": {
             "colorbar": {
              "outlinewidth": 0,
              "ticks": ""
             }
            },
            "type": "scatterpolargl"
           }
          ],
          "scatterternary": [
           {
            "marker": {
             "colorbar": {
              "outlinewidth": 0,
              "ticks": ""
             }
            },
            "type": "scatterternary"
           }
          ],
          "surface": [
           {
            "colorbar": {
             "outlinewidth": 0,
             "ticks": ""
            },
            "colorscale": [
             [
              0,
              "#0d0887"
             ],
             [
              0.1111111111111111,
              "#46039f"
             ],
             [
              0.2222222222222222,
              "#7201a8"
             ],
             [
              0.3333333333333333,
              "#9c179e"
             ],
             [
              0.4444444444444444,
              "#bd3786"
             ],
             [
              0.5555555555555556,
              "#d8576b"
             ],
             [
              0.6666666666666666,
              "#ed7953"
             ],
             [
              0.7777777777777778,
              "#fb9f3a"
             ],
             [
              0.8888888888888888,
              "#fdca26"
             ],
             [
              1,
              "#f0f921"
             ]
            ],
            "type": "surface"
           }
          ],
          "table": [
           {
            "cells": {
             "fill": {
              "color": "#EBF0F8"
             },
             "line": {
              "color": "white"
             }
            },
            "header": {
             "fill": {
              "color": "#C8D4E3"
             },
             "line": {
              "color": "white"
             }
            },
            "type": "table"
           }
          ]
         },
         "layout": {
          "annotationdefaults": {
           "arrowcolor": "#2a3f5f",
           "arrowhead": 0,
           "arrowwidth": 1
          },
          "autotypenumbers": "strict",
          "coloraxis": {
           "colorbar": {
            "outlinewidth": 0,
            "ticks": ""
           }
          },
          "colorscale": {
           "diverging": [
            [
             0,
             "#8e0152"
            ],
            [
             0.1,
             "#c51b7d"
            ],
            [
             0.2,
             "#de77ae"
            ],
            [
             0.3,
             "#f1b6da"
            ],
            [
             0.4,
             "#fde0ef"
            ],
            [
             0.5,
             "#f7f7f7"
            ],
            [
             0.6,
             "#e6f5d0"
            ],
            [
             0.7,
             "#b8e186"
            ],
            [
             0.8,
             "#7fbc41"
            ],
            [
             0.9,
             "#4d9221"
            ],
            [
             1,
             "#276419"
            ]
           ],
           "sequential": [
            [
             0,
             "#0d0887"
            ],
            [
             0.1111111111111111,
             "#46039f"
            ],
            [
             0.2222222222222222,
             "#7201a8"
            ],
            [
             0.3333333333333333,
             "#9c179e"
            ],
            [
             0.4444444444444444,
             "#bd3786"
            ],
            [
             0.5555555555555556,
             "#d8576b"
            ],
            [
             0.6666666666666666,
             "#ed7953"
            ],
            [
             0.7777777777777778,
             "#fb9f3a"
            ],
            [
             0.8888888888888888,
             "#fdca26"
            ],
            [
             1,
             "#f0f921"
            ]
           ],
           "sequentialminus": [
            [
             0,
             "#0d0887"
            ],
            [
             0.1111111111111111,
             "#46039f"
            ],
            [
             0.2222222222222222,
             "#7201a8"
            ],
            [
             0.3333333333333333,
             "#9c179e"
            ],
            [
             0.4444444444444444,
             "#bd3786"
            ],
            [
             0.5555555555555556,
             "#d8576b"
            ],
            [
             0.6666666666666666,
             "#ed7953"
            ],
            [
             0.7777777777777778,
             "#fb9f3a"
            ],
            [
             0.8888888888888888,
             "#fdca26"
            ],
            [
             1,
             "#f0f921"
            ]
           ]
          },
          "colorway": [
           "#636efa",
           "#EF553B",
           "#00cc96",
           "#ab63fa",
           "#FFA15A",
           "#19d3f3",
           "#FF6692",
           "#B6E880",
           "#FF97FF",
           "#FECB52"
          ],
          "font": {
           "color": "#2a3f5f"
          },
          "geo": {
           "bgcolor": "white",
           "lakecolor": "white",
           "landcolor": "#E5ECF6",
           "showlakes": true,
           "showland": true,
           "subunitcolor": "white"
          },
          "hoverlabel": {
           "align": "left"
          },
          "hovermode": "closest",
          "mapbox": {
           "style": "light"
          },
          "paper_bgcolor": "white",
          "plot_bgcolor": "#E5ECF6",
          "polar": {
           "angularaxis": {
            "gridcolor": "white",
            "linecolor": "white",
            "ticks": ""
           },
           "bgcolor": "#E5ECF6",
           "radialaxis": {
            "gridcolor": "white",
            "linecolor": "white",
            "ticks": ""
           }
          },
          "scene": {
           "xaxis": {
            "backgroundcolor": "#E5ECF6",
            "gridcolor": "white",
            "gridwidth": 2,
            "linecolor": "white",
            "showbackground": true,
            "ticks": "",
            "zerolinecolor": "white"
           },
           "yaxis": {
            "backgroundcolor": "#E5ECF6",
            "gridcolor": "white",
            "gridwidth": 2,
            "linecolor": "white",
            "showbackground": true,
            "ticks": "",
            "zerolinecolor": "white"
           },
           "zaxis": {
            "backgroundcolor": "#E5ECF6",
            "gridcolor": "white",
            "gridwidth": 2,
            "linecolor": "white",
            "showbackground": true,
            "ticks": "",
            "zerolinecolor": "white"
           }
          },
          "shapedefaults": {
           "line": {
            "color": "#2a3f5f"
           }
          },
          "ternary": {
           "aaxis": {
            "gridcolor": "white",
            "linecolor": "white",
            "ticks": ""
           },
           "baxis": {
            "gridcolor": "white",
            "linecolor": "white",
            "ticks": ""
           },
           "bgcolor": "#E5ECF6",
           "caxis": {
            "gridcolor": "white",
            "linecolor": "white",
            "ticks": ""
           }
          },
          "title": {
           "x": 0.05
          },
          "xaxis": {
           "automargin": true,
           "gridcolor": "white",
           "linecolor": "white",
           "ticks": "",
           "title": {
            "standoff": 15
           },
           "zerolinecolor": "white",
           "zerolinewidth": 2
          },
          "yaxis": {
           "automargin": true,
           "gridcolor": "white",
           "linecolor": "white",
           "ticks": "",
           "title": {
            "standoff": 15
           },
           "zerolinecolor": "white",
           "zerolinewidth": 2
          }
         }
        },
        "title": {
         "text": "Distribución de Montos Totales CLP por Clasificación Phi4"
        }
       }
      }
     },
     "metadata": {},
     "output_type": "display_data"
    }
   ],
   "source": [
    "# Calculamos los montos totales en CLP por cada clasificación Phi4\n",
    "montos_por_clasificacion = df_clin_hosp.groupby('Clasificacion_Phi4')['total_clp'].sum()\n",
    "\n",
    "# Creamos el gráfico de torta interactivo para los montos totales\n",
    "fig_montos = px.pie(\n",
    "    values=montos_por_clasificacion.values, \n",
    "    names=montos_por_clasificacion.index, \n",
    "    title='Distribución de Montos Totales CLP por Clasificación Phi4',\n",
    "    hole=0.3\n",
    ")\n",
    "\n",
    "# Personalizamos el diseño del gráfico\n",
    "fig_montos.update_traces(textposition='inside', textinfo='percent+label')\n",
    "fig_montos.update_layout(showlegend=True)\n",
    "\n",
    "# Mostramos el gráfico\n",
    "fig_montos.show()\n"
   ]
  },
  {
   "cell_type": "code",
   "execution_count": 15,
   "metadata": {},
   "outputs": [
    {
     "name": "stdout",
     "output_type": "stream",
     "text": [
      "           Clasificación Phi4 Monto Total CLP % del total del monto gastado\n",
      "0             Hospitalización   2,117,395,474                        37.02%\n",
      "1        Atención de urgencia   1,004,106,079                        17.56%\n",
      "2  Profesionales y honorarios     791,467,726                        13.84%\n",
      "3      Medicamentos e insumos     747,361,157                        13.07%\n",
      "4              Sin clasificar     492,246,904                         8.61%\n",
      "5  Diagnóstico / imagenología     448,466,107                         7.84%\n",
      "6  Procedimientos quirúrgicos      91,828,848                         1.61%\n",
      "7            Ley de pacientes      26,181,300                         0.46%\n"
     ]
    }
   ],
   "source": [
    "\n",
    "# Calculamos los montos totales en CLP por cada clasificación Phi4\n",
    "montos_por_clasificacion = df_clin_hosp.groupby('Clasificacion_Phi4')['total_clp'].sum()\n",
    "\n",
    "# Ordenamos los montos de mayor a menor\n",
    "montos_por_clasificacion = montos_por_clasificacion.sort_values(ascending=False)\n",
    "\n",
    "# Calculamos el porcentaje de cada monto respecto al total\n",
    "porcentaje_montos = (montos_por_clasificacion / montos_por_clasificacion.sum()) * 100\n",
    "\n",
    "# Creamos una tabla con los montos y el porcentaje por categoría\n",
    "tabla_montos = montos_por_clasificacion.reset_index()\n",
    "tabla_montos.columns = ['Clasificación Phi4', 'Monto Total CLP']\n",
    "tabla_montos['% del total del monto gastado'] = porcentaje_montos.values\n",
    "\n",
    "# Formateamos los montos para que no usen notación científica y tengan separador de miles\n",
    "tabla_montos['Monto Total CLP'] = tabla_montos['Monto Total CLP'].apply(lambda x: f\"{x:,.0f}\")\n",
    "tabla_montos['% del total del monto gastado'] = tabla_montos['% del total del monto gastado'].apply(lambda x: f\"{x:.2f}%\")\n",
    "\n",
    "# Mostramos la tabla\n",
    "print(tabla_montos)\n"
   ]
  },
  {
   "cell_type": "markdown",
   "metadata": {},
   "source": [
    "Del total de glosas (18.087) hay un 10,4% (1.873) que no se pueden clasificar debido a falta de información contextual. Este 10,4% de las glosas se traduce en montos de $492.246.904.\n",
    "\n",
    "La categoría que posee más etiquetas es 'Atención de urgencia' (Representa un 48,2% de todas las observaciones), y corresponden a un monto de $1.004.106.079.\n",
    "\n",
    "Mientras que 'Hospitalización' aunque representa un modesto 8,7% de las observaciones, estas representan la categoría en que más se gastó, pues los montos ascienden a $2.117.395.474 (un 37% del gasto total)"
   ]
  },
  {
   "cell_type": "markdown",
   "metadata": {},
   "source": [
    "Se incorporaron tecnologías de inteligencia artificial (concretamente, un LLM llamado 'phi4' de Microsoft) para procesar y clasificar las glosas de texto de ciertas cuentas de gasto. "
   ]
  },
  {
   "cell_type": "markdown",
   "metadata": {},
   "source": [
    "Se definió el objetivo de aprovechar la información disponible en las glosas de texto de las cuentas de gasto (de la ME2L (Procedimiento en SAP)) y para esto, lo que se hizo fue definir un grupo de cuentas en base a los montos que suponian, y luego para cada una se hizo un análisis de texto (se analizaron nubes de palabras con unigramas y brigramas y se le entregaron a un modelo de lenguaje (GPT-4o)) para que determinara categorias posibles de clasificar en base a los textos disponibles.\n",
    "\n",
    "En base a este análisis, se definieron potenciales categorías de clasificación para cada cuenta de gasto, para ser validadas junto al equipo de control financiero.\n",
    "\n",
    "Se comenzó por la cuenta de Clínincas y Hospitales, las categorías que se definieron en concreto fueron:\n",
    "\n",
    "- Atención de urgencia  \n",
    "- Hospitalización       \n",
    "- Diagnóstico / imagenología\n",
    "- Procedimientos quirúrgicos \n",
    "- Medicamentos e insumos \n",
    "- Profesionales y honorarios \n",
    "- Ley de pacientes     \n",
    "\n",
    "Para identificar estas categogías en el texto, se incorporaron tecnologías de inteligencia artificial (concretamente, un LLM llamado 'phi4' de Microsoft) para procesar e identificar en el texto patrones o indicios a estas categorías y hacer una clasificación automatizada del texto.\n",
    "\n",
    "Se definió una instrucción que sirvió como prompt de sistema, del tipo: \n",
    "\n",
    "> Eres un asistente experto en clasificar cuentas de gastos médicos, tu objetivo es determinar, en base al texto proporcionado, a cual de las siguientes categorías corresponde:\n",
    ">> - Atención de urgencia\n",
    ">> - Hospitalización\n",
    ">> - Diagnóstico / imagenología\n",
    ">> - Procedimientos quirúrgicos\n",
    ">> - Medicamentos e insumos\n",
    ">> - Profesionales y honorarios\n",
    ">> - Ley de pacientes\n",
    ">>> Considera el contexto completo del texto para realizar la clasificación. Responde únicamente con el nombre de la categoría seleccionada de la lista anterior, sin añadir explicaciones, introducciones o texto adicional. Si el texto no corresponde claramente a ninguna de estas categorías, responde 'Sin clasificar'.\n",
    "\n",
    "Cada glosa de texto de procesó de forma independiente, con el modelo utilizando estas instrucciones.\n",
    "\n",
    "Los resultados obtenidos fueron los siguientes:\n",
    "\n",
    "Número de Casos (órdenes de compra)\n",
    "| Clasificación Phi4           |     N   |    %   |\n",
    "|-----------------------------|---------|--------|\n",
    "| Atención de urgencia        |  8.718  | 48.20% |\n",
    "| Profesionales y honorarios  |  2.468  | 13.65% |\n",
    "| Sin clasificar              |  1.873  | 10.36% |\n",
    "| Diagnóstico / imagenología  |  1.598  |  8.84% |\n",
    "| Medicamentos e insumos      |  1.595  |  8.82% |\n",
    "| Hospitalización             |  1.565  |  8.65% |\n",
    "| Procedimientos quirúrgicos  |    166  |  0.92% |\n",
    "| Ley de pacientes            |    104  |  0.57% |\n",
    "\n",
    "\n",
    "Montos por categoría:\n",
    "| Clasificación Phi4           | Monto Total CLP | % del total del monto gastado |\n",
    "|-----------------------------|------------------|-------------------------------|\n",
    "| Hospitalización             | 2.117.395.474    | 37.02%                        |\n",
    "| Atención de urgencia        | 1.004.106.079    | 17.56%                        |\n",
    "| Profesionales y honorarios  |   791.467.726    | 13.84%                        |\n",
    "| Medicamentos e insumos      |   747.361.157    | 13.07%                        |\n",
    "| Sin clasificar              |   492.246.904    |  8.61%                        |\n",
    "| Diagnóstico / imagenología  |   448.466.107    |  7.84%                        |\n",
    "| Procedimientos quirúrgicos  |    91.828.848    |  1.61%                        |\n",
    "| Ley de pacientes            |    26.181.300    |  0.46%                        |\n",
    "\n",
    "\n",
    "Como se puede observar: Del total de glosas (18.087) hay un 10,4% (1.873) que no se pueden clasificar debido a falta de información contextual. Este 10,4% de las glosas se traduce en montos de $492.246.904.\n",
    "\n",
    "La categoría más frecuente en términos de n de casos es 'Atención de urgencia' (Representa un 48,2% de todas las observaciones), y corresponden a un monto de $1.004.106.079.\n",
    "\n",
    "Mientras que 'Hospitalización' aunque representa un modesto 8,7% de las observaciones, estas representan la categoría en que más se gastó, pues los montos ascienden a $2.117.395.474 (un 37% del gasto total)\n",
    "\n"
   ]
  },
  {
   "cell_type": "markdown",
   "metadata": {},
   "source": []
  },
  {
   "cell_type": "markdown",
   "metadata": {},
   "source": []
  }
 ],
 "metadata": {
  "kernelspec": {
   "display_name": "neo",
   "language": "python",
   "name": "python3"
  },
  "language_info": {
   "codemirror_mode": {
    "name": "ipython",
    "version": 3
   },
   "file_extension": ".py",
   "mimetype": "text/x-python",
   "name": "python",
   "nbconvert_exporter": "python",
   "pygments_lexer": "ipython3",
   "version": "3.9.19"
  }
 },
 "nbformat": 4,
 "nbformat_minor": 2
}
