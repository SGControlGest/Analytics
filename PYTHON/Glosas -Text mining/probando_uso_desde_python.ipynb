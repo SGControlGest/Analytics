{
 "cells": [
  {
   "cell_type": "code",
   "execution_count": 1,
   "metadata": {},
   "outputs": [],
   "source": [
    "import ollama\n"
   ]
  },
  {
   "cell_type": "code",
   "execution_count": 2,
   "metadata": {},
   "outputs": [
    {
     "name": "stdout",
     "output_type": "stream",
     "text": [
      "El cielo parece azul debido a un fenómeno conocido como dispersión de Rayleigh. Este proceso ocurre porque la atmósfera de la Tierra está llena de moléculas y pequeñas partículas que interactúan con la luz solar.\n",
      "\n",
      "La luz del sol es compuesta por una variedad de colores, cada uno con diferentes longitudes de onda. Cuando la luz entra en la atmósfera terrestre, las ondas más cortas (como el azul y el violeta) son dispersadas en todas direcciones por estas moléculas mucho más que las longitudes de onda más largas (como el rojo o el amarillo). Aunque el violeto es dispersado aún más que el azul, nuestro cielo no se ve principalmente violeta porque:\n",
      "\n",
      "1. **Sensibilidad del Ojo Humano**: Los ojos humanos son más sensibles al azul que al violeta.\n",
      "2. **Contaminación Lumínica**: La luz ultravioleta es absorbida por la capa de ozono y otras sustancias en la atmósfera, dejando menos violeto para ser percibido.\n",
      "\n",
      "Además, durante el día, cuando el sol está alto en el cielo, la dispersión azul predomina sobre los otros colores debido a este proceso, haciendo que el cielo se vea predominantemente azul. Sin embargo, cerca del amanecer y del atardecer, cuando el sol está bajo en el horizonte, su luz tiene que atravesar una mayor cantidad de atmósfera, dispersando aún más las ondas cortas y permitiendo que los colores con longitudes de onda más largas, como naranjas y rojos, dominen la paleta del cielo.\n",
      "\n",
      "En resumen, el cielo se ve azul durante el día debido a la dispersión de Rayleigh de la luz solar por las moléculas en la atmósfera terrestre.\n"
     ]
    }
   ],
   "source": [
    "\n",
    "# Definir el mensaje del usuario\n",
    "mensaje = {\n",
    "    'role': 'user',\n",
    "    'content': '¿Por qué el cielo es azul?',\n",
    "}\n",
    "\n",
    "# Realizar la consulta al modelo\n",
    "respuesta = ollama.chat(model='phi4', messages=[mensaje])\n",
    "\n",
    "# Imprimir la respuesta del modelo\n",
    "print(respuesta['message']['content'])\n"
   ]
  },
  {
   "cell_type": "code",
   "execution_count": null,
   "metadata": {},
   "outputs": [],
   "source": []
  }
 ],
 "metadata": {
  "kernelspec": {
   "display_name": "neo",
   "language": "python",
   "name": "python3"
  },
  "language_info": {
   "codemirror_mode": {
    "name": "ipython",
    "version": 3
   },
   "file_extension": ".py",
   "mimetype": "text/x-python",
   "name": "python",
   "nbconvert_exporter": "python",
   "pygments_lexer": "ipython3",
   "version": "3.9.19"
  }
 },
 "nbformat": 4,
 "nbformat_minor": 2
}
